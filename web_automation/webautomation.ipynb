{
 "cells": [
  {
   "cell_type": "code",
   "execution_count": 1,
   "metadata": {},
   "outputs": [],
   "source": [
    "import time\n",
    "from getpass import getpass\n",
    "\n",
    "from selenium import webdriver\n",
    "from selenium.webdriver.common.keys import Keys\n",
    "\n",
    "\n",
    "class multi():\n",
    "    def multiple_tabs(self):\n",
    "        no_of_windows = self.driver.window_handles\n",
    "        #print(len(no_of_windows))\n",
    "        if len(no_of_windows) >= 1:\n",
    "            self.driver.execute_script(\"window.open('');\")\n",
    "            multiple_windows = self.driver.window_handles\n",
    "            #print(len(multiple_windows))\n",
    "            self.driver.switch_to.window(self.driver.window_handles[len(multiple_windows)-1])\n",
    "        \n",
    "class Test(multi):\n",
    "    def __init__(self):\n",
    "        self.driver = webdriver.Chrome()\n",
    "        print(\"Browser Opened with google\")\n",
    "        self.driver.get(\"https://google.com\")\n",
    "        self.google_window = self.driver.current_window_handle\n",
    "        \n",
    "    \n",
    "    def gmail_login(self):\n",
    "        print(\"Gmail login\")\n",
    "        username = input(\"enter your Gmail I'd: \")\n",
    "        password = getpass('enter your gmail password: ')\n",
    "        multi.multiple_tabs(self)\n",
    "        self.driver.get(\"https://accounts.google.com/signin/v2/identifier?continue=https%3A%2F%2Fmail.google.com%2Fmail%2F&service=mail&sacu=1&rip=1&flowName=GlifWebSignIn&flowEntry=ServiceLogin\")\n",
    "        self.driver.find_element_by_xpath('//*[@id=\"identifierId\"]').send_keys(username)\n",
    "        self.driver.find_element_by_id('identifierNext').click()\n",
    "        time.sleep(3)\n",
    "        self.driver.find_element_by_name('password').send_keys(password)\n",
    "        self.driver.find_element_by_id('passwordNext').click()\n",
    "        self.gmail_window = self.driver.current_window_handle\n",
    "    \n",
    "    def gmail_logout(self):\n",
    "        print('logging out gmail')\n",
    "        self.driver.switch_to.window(self.gmail_window)\n",
    "        time.sleep(1)\n",
    "        self.driver.find_element_by_xpath('//*[@id=\"gb\"]/div[2]/div[3]/div/div[2]/div/a').click()\n",
    "        time.sleep(2)\n",
    "        self.driver.find_element_by_xpath('//*[@id=\"gb_71\"]').click()\n",
    "    \n",
    "    def facebook_login(self):\n",
    "        print(\"Gmail login\")\n",
    "        username = input(\"enter your facebook login I'd: \")\n",
    "        password = getpass('enter your facebook password: ')\n",
    "        multi.multiple_tabs(self)\n",
    "        self.driver.get(\"https://www.facebook.com\")\n",
    "        self.driver.find_element_by_id('email').send_keys(username)\n",
    "        self.driver.find_element_by_id('pass').send_keys(password)\n",
    "        time.sleep(1)\n",
    "        self.driver.find_element_by_xpath('//*[@id=\"u_0_a\"]').click()\n",
    "        self.facebook_window = self.driver.current_window_handle\n",
    "    \n",
    "    def facebook_logout(self):\n",
    "        print('logout facebook')\n",
    "        self.driver.switch_to.window(self.facebook_window)\n",
    "        time.sleep(1)\n",
    "        self.driver.find_element_by_id(\"userNavigationLabel\").click()\n",
    "        time.sleep(2)\n",
    "        self.driver.find_element_by_partial_link_text('Log Out').click()\n",
    "           \n",
    "    def youtube_search(self):\n",
    "        print(\"Opening youtube\")\n",
    "        youtube_search = input('enter the text to search in youtube: ')\n",
    "        multi.multiple_tabs(self)\n",
    "        self.driver.get(\"https://www.youtube.com\")\n",
    "        self.driver.find_element_by_id('search').send_keys(youtube_search)\n",
    "        time.sleep(1)\n",
    "        self.driver.find_element_by_id('search-icon-legacy').click()\n",
    "    \n",
    "    def open_new_tab(self):\n",
    "        print(\"Open new tab for google search \")\n",
    "        google_search = input('enter the text to search in google: ')\n",
    "        multi.multiple_tabs(self)\n",
    "        self.driver.get(\"https://google.com\")   \n",
    "        self.driver.find_element_by_xpath('//*[@id=\"tsf\"]/div[2]/div[1]/div[1]/div/div[2]/input').send_keys(google_search)\n",
    "        self.driver.find_element_by_xpath('//*[@id=\"tsf\"]/div[2]/div[1]/div[3]/center/input[1]').click() \n",
    "    \n",
    "    def  google_search(self):\n",
    "        print(\"search the text in google\")\n",
    "        google_search = input('enter the text to search in google: ')\n",
    "        self.driver.switch_to.window(self.google_window)\n",
    "        self.driver.find_element_by_xpath('//*[@id=\"tsf\"]/div[2]/div[1]/div[1]/div/div[2]/input').send_keys(google_search)\n",
    "        self.driver.find_element_by_xpath('//*[@id=\"tsf\"]/div[2]/div[1]/div[3]/center/input[1]').click()\n",
    "    \n",
    "    def close_broswer(self):\n",
    "        self.driver.quit()\n",
    "        \n"
   ]
  },
  {
   "cell_type": "code",
   "execution_count": 2,
   "metadata": {},
   "outputs": [
    {
     "name": "stdout",
     "output_type": "stream",
     "text": [
      "Browser Opened with google\n"
     ]
    }
   ],
   "source": [
    "D = Test()"
   ]
  },
  {
   "cell_type": "code",
   "execution_count": 3,
   "metadata": {},
   "outputs": [
    {
     "name": "stdout",
     "output_type": "stream",
     "text": [
      "search the text in google\n",
      "enter the text to search in google: python\n"
     ]
    }
   ],
   "source": [
    "D.google_search()\n"
   ]
  },
  {
   "cell_type": "code",
   "execution_count": 4,
   "metadata": {},
   "outputs": [
    {
     "name": "stdout",
     "output_type": "stream",
     "text": [
      "Open new tab for google search \n",
      "enter the text to search in google: cricket match\n"
     ]
    }
   ],
   "source": [
    "D.open_new_tab()"
   ]
  },
  {
   "cell_type": "code",
   "execution_count": null,
   "metadata": {},
   "outputs": [],
   "source": [
    "D.gmail_login()"
   ]
  },
  {
   "cell_type": "code",
   "execution_count": 6,
   "metadata": {},
   "outputs": [
    {
     "name": "stdout",
     "output_type": "stream",
     "text": [
      "Opening youtube\n",
      "enter the text to search in youtube: avengers fight scences\n"
     ]
    }
   ],
   "source": [
    "D.youtube_search()"
   ]
  },
  {
   "cell_type": "code",
   "execution_count": 7,
   "metadata": {},
   "outputs": [
    {
     "name": "stdout",
     "output_type": "stream",
     "text": [
      "logging out gmail\n"
     ]
    }
   ],
   "source": [
    "D.gmail_logout()"
   ]
  },
  {
   "cell_type": "code",
   "execution_count": null,
   "metadata": {},
   "outputs": [],
   "source": [
    "D.facebook_login()"
   ]
  },
  {
   "cell_type": "code",
   "execution_count": 10,
   "metadata": {},
   "outputs": [
    {
     "name": "stdout",
     "output_type": "stream",
     "text": [
      "logout facebook\n"
     ]
    }
   ],
   "source": [
    "D.facebook_logout()"
   ]
  },
  {
   "cell_type": "code",
   "execution_count": 11,
   "metadata": {},
   "outputs": [],
   "source": [
    "D.close_broswer()"
   ]
  },
  {
   "cell_type": "code",
   "execution_count": null,
   "metadata": {},
   "outputs": [],
   "source": []
  },
  {
   "cell_type": "code",
   "execution_count": null,
   "metadata": {},
   "outputs": [],
   "source": []
  },
  {
   "cell_type": "code",
   "execution_count": null,
   "metadata": {},
   "outputs": [],
   "source": []
  },
  {
   "cell_type": "code",
   "execution_count": null,
   "metadata": {},
   "outputs": [],
   "source": []
  },
  {
   "cell_type": "code",
   "execution_count": null,
   "metadata": {},
   "outputs": [],
   "source": []
  },
  {
   "cell_type": "code",
   "execution_count": null,
   "metadata": {},
   "outputs": [],
   "source": []
  },
  {
   "cell_type": "code",
   "execution_count": null,
   "metadata": {},
   "outputs": [],
   "source": []
  },
  {
   "cell_type": "code",
   "execution_count": null,
   "metadata": {},
   "outputs": [],
   "source": []
  },
  {
   "cell_type": "code",
   "execution_count": null,
   "metadata": {},
   "outputs": [],
   "source": []
  },
  {
   "cell_type": "code",
   "execution_count": null,
   "metadata": {},
   "outputs": [],
   "source": []
  }
 ],
 "metadata": {
  "kernelspec": {
   "display_name": "Python 3",
   "language": "python",
   "name": "python3"
  },
  "language_info": {
   "codemirror_mode": {
    "name": "ipython",
    "version": 3
   },
   "file_extension": ".py",
   "mimetype": "text/x-python",
   "name": "python",
   "nbconvert_exporter": "python",
   "pygments_lexer": "ipython3",
   "version": "3.7.3"
  }
 },
 "nbformat": 4,
 "nbformat_minor": 2
}
